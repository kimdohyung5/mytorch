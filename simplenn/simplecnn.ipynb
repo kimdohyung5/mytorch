{
 "cells": [
  {
   "cell_type": "markdown",
   "metadata": {},
   "source": [
    "연관된 package 로딩하기."
   ]
  },
  {
   "cell_type": "code",
   "execution_count": 1,
   "metadata": {},
   "outputs": [],
   "source": [
    "import argparse\n",
    "import torch\n",
    "import torch.nn as nn\n",
    "from torchvision import datasets, transforms"
   ]
  },
  {
   "cell_type": "markdown",
   "metadata": {},
   "source": [
    "# 모델생성하기"
   ]
  },
  {
   "cell_type": "code",
   "execution_count": 3,
   "metadata": {},
   "outputs": [],
   "source": [
    "class CNNModel(nn.Module):\n",
    "    def __init__(self):\n",
    "        super(CNNModel, self).__init__()\n",
    "        self.conv1 = nn.Conv2d(1, 6, 5, 1) # 6 * 24 24 \n",
    "        self.pool1 = nn.MaxPool2d(2)        # 6 * 12, 12\n",
    "        self.conv2 = nn.Conv2d(6, 16, 5, 1) # 16 * 8 * 8\n",
    "        self.pool2 = nn.MaxPool2d(2)        #  16 * 4 * 4 \n",
    "        self.conv_module = nn.Sequential(\n",
    "            self.conv1, nn.ReLU(), self.pool1, \n",
    "            self.conv2, nn.ReLU(), self.pool2\n",
    "        )\n",
    "        self.fc1 = nn.Linear( 16 * 4 * 4, 128)\n",
    "        self.fc2 = nn.Linear(128, 84)\n",
    "        self.fc3 = nn.Linear(84, 10)\n",
    "        self.fc_module = nn.Sequential(\n",
    "            self.fc1, nn.ReLU(), self.fc2, nn.ReLU(), self.fc3\n",
    "        )       \n",
    "        \n",
    "\n",
    "    def forward(self, x):\n",
    "        x = self.conv_module(x)\n",
    "        dim = 1\n",
    "        for d in x.size()[1:]: #16, 4, 4\n",
    "            dim = dim * d\n",
    "        x = x.view(-1, dim)    \n",
    "        x = self.fc_module(x)\n",
    "\n",
    "        return x "
   ]
  },
  {
   "cell_type": "markdown",
   "metadata": {},
   "source": [
    "# 메인 함수 만들기"
   ]
  },
  {
   "cell_type": "code",
   "execution_count": 4,
   "metadata": {},
   "outputs": [],
   "source": [
    "def main():\n",
    "    parser = argparse.ArgumentParser()\n",
    "    args = parser.parse_args(\"\")\n",
    "    args.batch_size = 128\n",
    "    args.test_batch_size = 128    \n",
    "    args.epochs = 2\n",
    "    args.lr = 0.001\n",
    "\n",
    "    list_train_loss = []\n",
    "    list_val_loss = []\n",
    "    list_epochs = []\n",
    "    \n",
    "    train_dataset = datasets.MNIST(\"../data\", train=True, transform=transforms.Compose([\n",
    "            transforms.ToTensor(),\n",
    "            transforms.Normalize((0.1307,), (0.3081,))\n",
    "        ])  , download=True)\n",
    "    train_dataset, val_dataset = torch.utils.data.random_split(train_dataset, [50000, 10000])                    \n",
    "    test_dataset = datasets.MNIST(\"../data\", train=False, transform=transforms.Compose([\n",
    "            transforms.ToTensor(),\n",
    "            transforms.Normalize((0.1307,), (0.3081,))\n",
    "        ]), download=True)\n",
    "\n",
    "    train_loader = torch.utils.data.DataLoader(train_dataset, batch_size=128, shuffle=True)\n",
    "    val_loader = torch.utils.data.DataLoader(val_dataset, batch_size=128, shuffle=True)\n",
    "    test_loader = torch.utils.data.DataLoader(test_dataset, batch_size=128, shuffle=True)\n",
    "    \n",
    "    \n",
    "    model = CNNModel()\n",
    "    print('Number of {} parameters'.format(sum(p.numel() for p in model.parameters() if p.requires_grad)))\n",
    "    criterion = nn.CrossEntropyLoss()\n",
    "    optimizer = torch.optim.Adam( model.parameters(), lr= args.lr)\n",
    "    #criterion = nn.MSELoss\n",
    "    \n",
    "    # training 작업진행.\n",
    "    \n",
    "    for ind in range(args.epochs):\n",
    "        # Training\n",
    "        train_loss = 0\n",
    "        model.train()\n",
    "        for data, target in train_loader:                                    \n",
    "            preds = model( data )            \n",
    "            loss = criterion( preds, target )            \n",
    "            train_loss += loss.item()\n",
    "            optimizer.zero_grad()\n",
    "            loss.backward()\n",
    "            optimizer.step()\n",
    "        train_loss = train_loss / len( train_loader)    \n",
    "        print(\"train_loss\", train_loss )    \n",
    "        list_train_loss.append( train_loss )\n",
    "        list_epochs.append(ind)\n",
    "\n",
    "        #Validation\n",
    "        val_loss = 0\n",
    "        model.eval()\n",
    "        for data, target in val_loader:                              \n",
    "            preds = model( data )            \n",
    "            loss = criterion( preds, target )            \n",
    "            val_loss += loss.item()\n",
    "            optimizer.zero_grad()\n",
    "            loss.backward()            \n",
    "        val_loss = val_loss / len( val_loader)    \n",
    "        print(\"val_loss\", val_loss )    \n",
    "        list_val_loss.append( train_loss )\n",
    "\n",
    "        # Test\n",
    "        correct = 0\n",
    "        model.eval()        \n",
    "        optimizer.zero_grad()\n",
    "\n",
    "        for data , target in test_loader:\n",
    "            #data = data.view(-1, 28 * 28)\n",
    "            preds = model( data )        \n",
    "            preds_y = preds.max(1, keepdim=True)[1].squeeze()        \n",
    "            local_correct_sum = preds_y.eq(target).sum()\n",
    "            correct += local_correct_sum            \n",
    "        acc = correct.numpy() / len( test_loader.dataset )    \n",
    "        print(\"Epoch: {}, Train Loss: {}, Val Loss: {}, Test Acc: {}%\".format(ind, train_loss, 0, acc * 100))        \n",
    "\n",
    "\n",
    "    print(\" training done..\")"
   ]
  },
  {
   "cell_type": "code",
   "execution_count": null,
   "metadata": {},
   "outputs": [],
   "source": [
    "실제 실행하기"
   ]
  }
 ],
 "metadata": {
  "kernelspec": {
   "display_name": "Python 3",
   "language": "python",
   "name": "python3"
  },
  "language_info": {
   "codemirror_mode": {
    "name": "ipython",
    "version": 3
   },
   "file_extension": ".py",
   "mimetype": "text/x-python",
   "name": "python",
   "nbconvert_exporter": "python",
   "pygments_lexer": "ipython3",
   "version": "3.7.2"
  }
 },
 "nbformat": 4,
 "nbformat_minor": 2
}
