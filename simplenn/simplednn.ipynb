{
 "cells": [
  {
   "cell_type": "markdown",
   "metadata": {},
   "source": [
    "연관된 package 로딩하기."
   ]
  },
  {
   "cell_type": "code",
   "execution_count": 3,
   "metadata": {},
   "outputs": [],
   "source": [
    "import argparse\n",
    "import torch\n",
    "import torch.nn as nn\n",
    "from torchvision import datasets, transforms"
   ]
  },
  {
   "cell_type": "markdown",
   "metadata": {},
   "source": [
    "# 모델생성하기"
   ]
  },
  {
   "cell_type": "code",
   "execution_count": 4,
   "metadata": {},
   "outputs": [],
   "source": [
    "class Model(nn.Module):\n",
    "    def __init__(self):\n",
    "        super(Model, self).__init__()\n",
    "        self.linear1 = nn.Linear( 28 * 28, 500 )\n",
    "        self.linear2 = nn.Linear( 500, 500 )\n",
    "        self.linear3 = nn.Linear( 500, 10 )\n",
    "        self.act = nn.ReLU()\n",
    "\n",
    "    def forward(self, x):\n",
    "        x = self.act(self.linear1(x))\n",
    "        x = self.act(self.linear2(x))\n",
    "        x = self.linear3(x)\n",
    "        return x"
   ]
  },
  {
   "cell_type": "markdown",
   "metadata": {},
   "source": [
    "# 메인 함수 만들기"
   ]
  },
  {
   "cell_type": "code",
   "execution_count": 10,
   "metadata": {},
   "outputs": [],
   "source": [
    "def main():\n",
    "    parser = argparse.ArgumentParser()\n",
    "    args = parser.parse_args(\"\")\n",
    "    args.batch_size = 128\n",
    "    args.test_batch_size = 128    \n",
    "    args.epochs = 2\n",
    "    args.lr = 0.001\n",
    "\n",
    "    list_train_loss = []\n",
    "    list_val_loss = []\n",
    "    list_epochs = []\n",
    "    \n",
    "    train_dataset = datasets.MNIST(\"../data\", train=True, transform=transforms.Compose([\n",
    "            transforms.ToTensor(),\n",
    "            transforms.Normalize((0.1307,), (0.3081,))\n",
    "        ])  , download=True)\n",
    "    train_dataset, val_dataset = torch.utils.data.random_split(train_dataset, [50000, 10000])                    \n",
    "    test_dataset = datasets.MNIST(\"../data\", train=False, transform=transforms.Compose([\n",
    "            transforms.ToTensor(),\n",
    "            transforms.Normalize((0.1307,), (0.3081,))\n",
    "        ]), download=True)\n",
    "\n",
    "    train_loader = torch.utils.data.DataLoader(train_dataset, batch_size=128, shuffle=True)\n",
    "    val_loader = torch.utils.data.DataLoader(val_dataset, batch_size=128, shuffle=True)\n",
    "    test_loader = torch.utils.data.DataLoader(test_dataset, batch_size=128, shuffle=True)\n",
    "    \n",
    "    \n",
    "    model = Model()\n",
    "    print('Number of {} parameters'.format(sum(p.numel() for p in model.parameters() if p.requires_grad)))\n",
    "    criterion = nn.CrossEntropyLoss()\n",
    "    optimizer = torch.optim.Adam( model.parameters(), lr= args.lr)\n",
    "    #criterion = nn.MSELoss\n",
    "    \n",
    "    # training 작업진행.\n",
    "    \n",
    "    for ind in range(args.epochs):\n",
    "        # Training\n",
    "        train_loss = 0\n",
    "        model.train()\n",
    "        for data, target in train_loader:                        \n",
    "            data = data.view(-1, 28 * 28 )           \n",
    "            preds = model( data )            \n",
    "            loss = criterion( preds, target )            \n",
    "            train_loss += loss.item()\n",
    "            optimizer.zero_grad()\n",
    "            loss.backward()\n",
    "            optimizer.step()\n",
    "        train_loss = train_loss / len( train_loader)    \n",
    "        print(\"train_loss\", train_loss )    \n",
    "        list_train_loss.append( train_loss )\n",
    "        list_epochs.append(ind)\n",
    "\n",
    "        #Validation\n",
    "        val_loss = 0\n",
    "        model.eval()\n",
    "        for data, target in val_loader:                        \n",
    "            data = data.view(-1, 28 * 28 )           \n",
    "            preds = model( data )            \n",
    "            loss = criterion( preds, target )            \n",
    "            val_loss += loss.item()\n",
    "            optimizer.zero_grad()\n",
    "            loss.backward()            \n",
    "        val_loss = val_loss / len( val_loader)    \n",
    "        print(\"val_loss\", val_loss )    \n",
    "        list_val_loss.append( train_loss )\n",
    "\n",
    "        # Test\n",
    "        correct = 0\n",
    "        model.eval()        \n",
    "        optimizer.zero_grad()\n",
    "\n",
    "        for data , target in test_loader:\n",
    "            data = data.view(-1, 28 * 28)\n",
    "            preds = model( data )        \n",
    "            preds_y = preds.max(1, keepdim=True)[1].squeeze()        \n",
    "            local_correct_sum = preds_y.eq(target).sum()\n",
    "            correct += local_correct_sum            \n",
    "        acc = correct.numpy() / len( test_loader.dataset )    \n",
    "        print(\"Epoch: {}, Train Loss: {}, Val Loss: {}, Test Acc: {}%\".format(ind, train_loss, 0, acc * 100))        \n",
    "\n",
    "\n",
    "    print(\" training done..\")"
   ]
  },
  {
   "cell_type": "code",
   "execution_count": null,
   "metadata": {},
   "outputs": [],
   "source": []
  },
  {
   "cell_type": "markdown",
   "metadata": {},
   "source": [
    "# 실제 실행하기"
   ]
  },
  {
   "cell_type": "code",
   "execution_count": 11,
   "metadata": {},
   "outputs": [
    {
     "name": "stdout",
     "output_type": "stream",
     "text": [
      "Downloading http://yann.lecun.com/exdb/mnist/train-images-idx3-ubyte.gz to ../data\\MNIST\\raw\\train-images-idx3-ubyte.gz\n"
     ]
    },
    {
     "name": "stderr",
     "output_type": "stream",
     "text": [
      "100.1%"
     ]
    },
    {
     "name": "stdout",
     "output_type": "stream",
     "text": [
      "Extracting ../data\\MNIST\\raw\\train-images-idx3-ubyte.gz\n",
      "Downloading http://yann.lecun.com/exdb/mnist/train-labels-idx1-ubyte.gz to ../data\\MNIST\\raw\\train-labels-idx1-ubyte.gz\n"
     ]
    },
    {
     "name": "stderr",
     "output_type": "stream",
     "text": [
      "113.5%"
     ]
    },
    {
     "name": "stdout",
     "output_type": "stream",
     "text": [
      "Extracting ../data\\MNIST\\raw\\train-labels-idx1-ubyte.gz\n",
      "Downloading http://yann.lecun.com/exdb/mnist/t10k-images-idx3-ubyte.gz to ../data\\MNIST\\raw\\t10k-images-idx3-ubyte.gz\n"
     ]
    },
    {
     "name": "stderr",
     "output_type": "stream",
     "text": [
      "100.4%"
     ]
    },
    {
     "name": "stdout",
     "output_type": "stream",
     "text": [
      "Extracting ../data\\MNIST\\raw\\t10k-images-idx3-ubyte.gz\n",
      "Downloading http://yann.lecun.com/exdb/mnist/t10k-labels-idx1-ubyte.gz to ../data\\MNIST\\raw\\t10k-labels-idx1-ubyte.gz\n"
     ]
    },
    {
     "name": "stderr",
     "output_type": "stream",
     "text": [
      "180.4%"
     ]
    },
    {
     "name": "stdout",
     "output_type": "stream",
     "text": [
      "Extracting ../data\\MNIST\\raw\\t10k-labels-idx1-ubyte.gz\n",
      "Processing...\n",
      "Done!\n",
      "Number of 648010 parameters\n",
      "train_loss 0.24339052728946556\n",
      "val_loss 0.11984257763133774\n",
      "Epoch: 0, Train Loss: 0.24339052728946556, Val Loss: 0, Test Acc: 96.5%\n",
      "train_loss 0.08874947123724938\n",
      "val_loss 0.08487582062901575\n",
      "Epoch: 1, Train Loss: 0.08874947123724938, Val Loss: 0, Test Acc: 97.53%\n",
      " training done..\n"
     ]
    }
   ],
   "source": [
    "if __name__ == \"__main__\":\n",
    "    main()"
   ]
  },
  {
   "cell_type": "code",
   "execution_count": null,
   "metadata": {},
   "outputs": [],
   "source": []
  }
 ],
 "metadata": {
  "kernelspec": {
   "display_name": "Python 3",
   "language": "python",
   "name": "python3"
  },
  "language_info": {
   "codemirror_mode": {
    "name": "ipython",
    "version": 3
   },
   "file_extension": ".py",
   "mimetype": "text/x-python",
   "name": "python",
   "nbconvert_exporter": "python",
   "pygments_lexer": "ipython3",
   "version": "3.7.2"
  }
 },
 "nbformat": 4,
 "nbformat_minor": 2
}
