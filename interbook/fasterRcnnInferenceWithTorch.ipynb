{
 "cells": [
  {
   "cell_type": "code",
   "execution_count": 1,
   "metadata": {},
   "outputs": [
    {
     "name": "stdout",
     "output_type": "stream",
     "text": [
      "pytorch 1.1.0\n",
      "torchvision 0.3.0\n"
     ]
    }
   ],
   "source": [
    "'''\n",
    "brew install libomp (for OSX)\n",
    "pip install torchtext -U\n",
    "'''\n",
    "import torch\n",
    "import torchvision\n",
    "from torchvision import models\n",
    "import torchvision.transforms as T\n",
    "\n",
    "import numpy as np\n",
    "from PIL import Image\n",
    "import matplotlib.pyplot as plt\n",
    "import matplotlib.patches as patches\n",
    "import matplotlib.patheffects as patheffects\n",
    "import os\n",
    "\n",
    "import time\n",
    "\n",
    "print('pytorch', torch.__version__)\n",
    "print('torchvision', torchvision.__version__)"
   ]
  },
  {
   "cell_type": "markdown",
   "metadata": {},
   "source": [
    "# Download Model"
   ]
  },
  {
   "cell_type": "code",
   "execution_count": 2,
   "metadata": {},
   "outputs": [],
   "source": [
    "COCO_INSTANCE_CATEGORY_NAMES = [\n",
    "    '__background__', 'person', 'bicycle', 'car', 'motorcycle', 'airplane', 'bus',\n",
    "    'train', 'truck', 'boat', 'traffic light', 'fire hydrant', 'N/A', 'stop sign',\n",
    "    'parking meter', 'bench', 'bird', 'cat', 'dog', 'horse', 'sheep', 'cow',\n",
    "    'elephant', 'bear', 'zebra', 'giraffe', 'N/A', 'backpack', 'umbrella', 'N/A', 'N/A',\n",
    "    'handbag', 'tie', 'suitcase', 'frisbee', 'skis', 'snowboard', 'sports ball',\n",
    "    'kite', 'baseball bat', 'baseball glove', 'skateboard', 'surfboard', 'tennis racket',\n",
    "    'bottle', 'N/A', 'wine glass', 'cup', 'fork', 'knife', 'spoon', 'bowl',\n",
    "    'banana', 'apple', 'sandwich', 'orange', 'broccoli', 'carrot', 'hot dog', 'pizza',\n",
    "    'donut', 'cake', 'chair', 'couch', 'potted plant', 'bed', 'N/A', 'dining table',\n",
    "    'N/A', 'N/A', 'toilet', 'N/A', 'tv', 'laptop', 'mouse', 'remote', 'keyboard', 'cell phone',\n",
    "    'microwave', 'oven', 'toaster', 'sink', 'refrigerator', 'N/A', 'book',\n",
    "    'clock', 'vase', 'scissors', 'teddy bear', 'hair drier', 'toothbrush'\n",
    "]"
   ]
  },
  {
   "cell_type": "markdown",
   "metadata": {},
   "source": [
    "# Load Image"
   ]
  },
  {
   "cell_type": "code",
   "execution_count": 3,
   "metadata": {},
   "outputs": [],
   "source": [
    "def bb_hw(a): return np.array([a[0],a[1],a[2]-a[0]+1,a[3]-a[1]+1])\n",
    "\n",
    "def show_img(im, figsize=None, ax=None):\n",
    "    if not ax: fig,ax = plt.subplots(figsize=figsize)\n",
    "    ax.imshow(im)\n",
    "    ax.get_xaxis().set_visible(False)\n",
    "    ax.get_yaxis().set_visible(False)\n",
    "    return ax\n",
    "\n",
    "def draw_outline(o, lw):\n",
    "    o.set_path_effects([patheffects.Stroke(\n",
    "        linewidth=lw, foreground='black'), patheffects.Normal()])\n",
    "\n",
    "def draw_rect(ax, b):    \n",
    "    patch = ax.add_patch(patches.Rectangle(b[:2], *b[-2:], fill=False, edgecolor='white', lw=2))    \n",
    "    draw_outline(patch, 4)\n",
    "\n",
    "def draw_text(ax, xy, txt, sz=14):\n",
    "    text = ax.text(*xy, txt,\n",
    "        verticalalignment='top', color='white', fontsize=sz, weight='bold')\n",
    "    draw_outline(text, 1)"
   ]
  },
  {
   "cell_type": "code",
   "execution_count": 4,
   "metadata": {},
   "outputs": [],
   "source": [
    "def inferAndShow(filename, threshold, model):\n",
    "    stime = time.time()\n",
    "    #print(\"stime\", stime)\n",
    "    img = Image.open(filename)\n",
    "#     plt.figure(figsize=(16, 16))\n",
    "#     plt.imshow(img)\n",
    "    trans = T.Compose([    \n",
    "        T.ToTensor(), \n",
    "    ])\n",
    "    input_img = trans(img)\n",
    "    input_img = input_img.cuda()\n",
    "    result = model([input_img])[0]    \n",
    "    \n",
    "    ax = show_img(img, figsize=(16, 16)) \n",
    "    for box, score, label in zip(result['boxes'], result['scores'], result['labels']):\n",
    "        score = score.item()\n",
    "        if score <= threshold :\n",
    "            break\n",
    "        box = box.detach().cpu().clone().numpy()\n",
    "        b = bb_hw(box)\n",
    "        draw_rect(ax, b)\n",
    "        resultscore = \"{}, {:1.3f}\".format( COCO_INSTANCE_CATEGORY_NAMES[label.item()], score )\n",
    "        draw_text(ax, b[:2], resultscore )\n",
    "    \n",
    "    \n",
    "    #print(\"duration={}\".format(time.time() - stime ))\n",
    "    "
   ]
  },
  {
   "cell_type": "code",
   "execution_count": 5,
   "metadata": {},
   "outputs": [],
   "source": [
    "model = torchvision.models.detection.fasterrcnn_resnet50_fpn(pretrained=True)\n",
    "model = model.eval()\n",
    "model.cuda()\n",
    "sourcefolder = 'C:/Users/10008000/imgs'\n",
    "#inferAndShow(os.path.join(sourcefolder, '000120.jpg') , 0.8, model )\n",
    "#inferAndShow(os.path.join(sourcefolder, '000121.jpg') , 0.8, model )\n",
    "#inferAndShow(os.path.join(sourcefolder, '000122.jpg') , 0.8, model )\n",
    "#inferAndShow(os.path.join(sourcefolder, '000123.jpg') , 0.8, model )\n",
    "#inferAndShow(os.path.join(sourcefolder, '000124.jpg') , 0.8, model )\n"
   ]
  }
 ],
 "metadata": {
  "kernelspec": {
   "display_name": "Python 3",
   "language": "python",
   "name": "python3"
  },
  "language_info": {
   "codemirror_mode": {
    "name": "ipython",
    "version": 3
   },
   "file_extension": ".py",
   "mimetype": "text/x-python",
   "name": "python",
   "nbconvert_exporter": "python",
   "pygments_lexer": "ipython3",
   "version": "3.7.2"
  }
 },
 "nbformat": 4,
 "nbformat_minor": 2
}
